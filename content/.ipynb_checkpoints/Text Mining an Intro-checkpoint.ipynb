{
 "cells": [
  {
   "cell_type": "markdown",
   "metadata": {},
   "source": [
    "## Introduction:\n",
    "\n",
    "This entire tutorial on text mining uses [python](www.python.org) for implementation and also some linux command line functions. You need not know either of them before hand as they are explained as part of the tutorial. But if you already know, then things will be even more easy for you. \n",
    "\n",
    "In this tutorial you will be learning what is text mining about through an example. The example works around the twitter data. Twitter is an extensively used social media platform that uses short text messages. We will be extracting data from this platform and work with it through out the chapter.\n",
    "\n",
    "Though we will be working on twitter data in this tutorial you can apply the same concepts to any other textual datasets out there. \n",
    "\n",
    "\n",
    "\n",
    "## Text mining:\n",
    "\n",
    "This very moment you are reading this sentence , huge amounts  of textual data are being posted on the web. Some of this content are short textual messages sometimes combined with other sorts of media such as images or videos, there are also blogs written by people on different topics expressing their views or opinons on them, there are reviews or comments often expressed by people on movies, books, restaurents, products etc  and also the books themselves(either fiction or non-fiction). All this data is lying out there, sometimes easily accessible and some times not, but if left untouched it is simply a waste and otherwise might give you something insightful if you start working with it. \n",
    "\n",
    "\n",
    "The goal of text mining is to obtain quality information from text data. In above paragraph I have listed some text resources that are present on the world wide web. But  there are certain chal lenges that lie in the way of obtaining this qualitative information.\n",
    "\n",
    "\n",
    "\n",
    "Text mining starts generaly with the process of information retrieval. We need to identify the source of data and then collect from this source. General sources are web: blogs, social media platforms, reviews and comments etc. Once we collect the data, we need to clean the noise in it, such as the removal of duplicate data entries, unwanted information such as url's, image links etc.  There are number of steps invovled in denoising the data and this dependes on the kind of data that you have at hand. Once we clean the text data, we can apply natural language processing techniques such as parsing, pos tagging etc. \n",
    "\n",
    "The whole idea is to convert something not so structured into something meaningful and structured. Once we have such a structured output, we can perform various tasks such as:\n",
    "\n",
    "* Sentiment analysis, \n",
    "* Topic detection\n",
    "* Document Summarization\n",
    "* entitiy relational Modelling\n",
    "* pattern recognition\n",
    "* predictive analytics\n",
    "* text categorization etc...\n",
    "\n",
    "In this tutorial we will be covering some primary concepts in sentiment analysis. The above mentioned tasks are extremely usefull for gaining insights into textual data. \n",
    "\n",
    "\n",
    "## Contents:\n",
    "\n",
    "1. [Regular Expressions](./regular-expressions.html)\n",
    "2. [Command line text Processing](/command-line-utitlies.html)\n",
    "\n",
    "3. [Python: installation and, pip](python-setup.html)\n",
    "\n",
    "4. [Playing with python](python-quicky.html)\n",
    "\n",
    "5. [Extracting data from   twitter](grabbing-tweets.html)\n",
    "\n",
    "6. [A quicky on JSON](json.html)\n",
    "\n",
    "7. [Cleaning the tweets](cleaning-tweets.html)\n",
    "\n",
    "8. [Sentiment Analysis](setniment-analysis.html)\n",
    "\n",
    "9. [Topic detection](TBD)\n",
    "\n",
    "10. A Project "
   ]
  },
  {
   "cell_type": "code",
   "execution_count": null,
   "metadata": {
    "collapsed": true
   },
   "outputs": [],
   "source": []
  }
 ],
 "metadata": {
  "kernelspec": {
   "display_name": "Python 2",
   "language": "python",
   "name": "python2"
  },
  "language_info": {
   "codemirror_mode": {
    "name": "ipython",
    "version": 2
   },
   "file_extension": ".py",
   "mimetype": "text/x-python",
   "name": "python",
   "nbconvert_exporter": "python",
   "pygments_lexer": "ipython2",
   "version": "2.7.10"
  },
  "toc": {
   "toc_cell": false,
   "toc_number_sections": false,
   "toc_threshold": "1",
   "toc_window_display": false
  },
  "widgets": {
   "state": {},
   "version": "1.1.2"
  }
 },
 "nbformat": 4,
 "nbformat_minor": 0
}
