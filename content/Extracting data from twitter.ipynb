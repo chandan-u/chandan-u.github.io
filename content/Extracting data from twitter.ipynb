{
 "cells": [
  {
   "cell_type": "markdown",
   "metadata": {
    "toc": "true"
   },
   "source": [
    "# Table of Contents\n",
    " <p>"
   ]
  },
  {
   "cell_type": "markdown",
   "metadata": {},
   "source": [
    "\n",
    "\n",
    "![](./images/images.png)\n",
    "\n",
    "\n",
    "## Introduction:\n",
    "\n",
    "\n",
    "   Twitter is  one of the ten most visited  web sites around the world. Its a microblogging platform that allows you share messages of lenght not more than 140 characters. Not just that , but it also helps you discover messages related to the topics you are intrested in. It can be usefull in many ways. Since its one of the most used websites, there is a lot of data flowing through its network which could used for varius research purposes. Fourtunately twitter decided to share this huge data with some limitations ofcourse to the public. Twitter offers API (Application Programing Interface) to do this. In this tutorial we will be exploring Twitter API and what it has to offer and how we can use some of these to obtain the data that we want. \n",
    "\n",
    "\n",
    "## Understanding the Limitations:\n",
    "\n",
    "Twitter offers many ways to access its data through its API. Each way has its pros and cons. Some of the limitations  you come across are:\n",
    "1. The amount of data you can get \n",
    "2. The number of requests you can make (API rate limits)\n",
    "3. Getting historical data i.e tweets from the past. etc\n",
    "\n",
    "We need to understand the limitations of the API thorugly along with what they have to offer before we go ahead and build applications. \n",
    "\n",
    "\n",
    "\n",
    "## Twitter Access keys:\n",
    "\n",
    "In order to build programs that use the twitter API we need Twitter access keys( also know as OAuth Access tokens). The Access keys can be generated on the twitter developer portal. The following are the required steps you need to follow to  generate the access keys: \n",
    "\n",
    "\n",
    "1. First you must have twitter account. If you dont have one, please create one. Every twitter account is associated with a mobile number. <br><br>\n",
    "\n",
    "2. Once you have your twitter account you can log into the twitter dev account [http://apps.twitter.com/](http://apps.twitter.com/) using the same credentials as your twitter account. <br><br>\n",
    "\n",
    "3. Create new app. <br>\n",
    "![\"click on create new app button\"](./images/twitter.dev_01.png)<br><br><br><br>\n",
    "\n",
    "4. Fill in the necessary details in the form pagee. If all the fields are filed in properly a new page will be loaded. <br>\n",
    "![\"click on create new app button\"](./images/twitter.dev_02.png)<br><br>\n",
    "\n",
    "5. Now open the _“Keys and Access Tokens”_ tab. Scroll down and click “Create my access token”. This will generate the _Access token_ and _Access token secret_. Copy your “Access token” and “Access token secret” along with _API Key_ and _API secret_ which is present at the top of the same page. <br>\n",
    "\n",
    "![\"click on create new app button\"](./images/twitter.dev_03.png)<br><br>\n",
    "\n",
    "\n",
    "6. Congratulations! now that we have access tokens we can start using the API. \n",
    "\n",
    "\n",
    "\n",
    "## Twitter libraries:\n",
    "\n",
    "Since we will be using python through out this tutorial we will be disucssing packages related to python. But if you prefer using other languages feel free to explore them. This page has a list of various libraris for accessing twitter API in various programing languages: [twitter Libraries](https://dev.twitter.com/overview/api/twitter-libraries) .  libraries make life easy when it comes to programming. For this tutorial we will be using the ___twitter-python___ libary.  <br><br>\n",
    "\n",
    "\n",
    "### Installing:\n",
    "\n",
    "```shell\n",
    "$ pip install python-twitter\n",
    "```\n",
    "You will get the following message at the end if it worked: _Successfully installed future-0.15.2 python-twitter-3.1_\n",
    "\n",
    "\n",
    "### Usage:\n",
    "\n",
    "To start using the twitter-python library you need the access keys that you have generated earlier:\n",
    "1. API key\n",
    "2. API secret\n",
    "3. Access token\n",
    "4. Access token secret\n",
    "\n",
    "Try the following in the python Interpreter or ipython:"
   ]
  },
  {
   "cell_type": "code",
   "execution_count": 1,
   "metadata": {
    "collapsed": false
   },
   "outputs": [],
   "source": [
    "# The keys have been displayed here becuase they are not to be shared.\n",
    "# The value inside quotes must be replaced by your keys if you are using this.\n",
    "import twitter\n",
    "#api = twitter.Api(consumer_key='consumer_key',consumer_secret='consumer_secret',access_token_key='access_token',access_token_secret='access_token_secret')\n",
    "api = twitter.Api(consumer_key='VXzRzW62biX8KW7A4XycqIeCL',\n",
    "                      consumer_secret='Dr1ak1sdfL2CdpGCp2IWYg3xbOYFWmJ2H3Tm6ZkgMPo5ejqBrY',\n",
    "                      access_token_key='78477561-2SitfsaoG4zvrq5jk1oMGahSgtBvQ9b7noe1XNNSX',\n",
    "                      access_token_secret='vYNqoq4IrLpRINUQdn06aAWaeoSz7G3PNNSSt23XIlx1F')"
   ]
  },
  {
   "cell_type": "code",
   "execution_count": 36,
   "metadata": {
    "collapsed": false
   },
   "outputs": [
    {
     "name": "stdout",
     "output_type": "stream",
     "text": [
      "{\"created_at\": \"Wed Sep 30 01:36:35 +0000 2009\", \"favourites_count\": 1, \"followers_count\": 54, \"friends_count\": 89, \"id\": 78477561, \"lang\": \"en\", \"listed_count\": 1, \"location\": \"India\", \"name\": \"Surya Teja\", \"profile_background_color\": \"C0DEED\", \"profile_background_image_url\": \"http://pbs.twimg.com/profile_background_images/198736057/Game_Scenes__14_.jpg\", \"profile_background_tile\": true, \"profile_image_url\": \"http://pbs.twimg.com/profile_images/700970727084666880/wSrJ6NCz_normal.jpg\", \"profile_link_color\": \"0084B4\", \"profile_sidebar_fill_color\": \"DDEEF6\", \"profile_text_color\": \"333333\", \"screen_name\": \"SuryaTeja1991\", \"status\": {\"created_at\": \"Mon Jul 14 17:07:38 +0000 2014\", \"favorite_count\": 1, \"hashtags\": [{\"text\": \"Hitwicket\"}], \"id\": 488731558652956672, \"id_str\": \"488731558652956672\", \"lang\": \"en\", \"source\": \"<a href=\\\"http://hitwicket.com\\\" rel=\\\"nofollow\\\">Hitwicket</a>\", \"text\": \"I'm now a Magnificent manager in Hitwicket! super\\n http://t.co/BxUMEsymBe #Hitwicket via @HitwicketGame\", \"urls\": [{\"expanded_url\": \"http://hitwicket.com/team/show/696?utm_source=twitterFeed&utm_medium=userFeedback&utm_campaign=team%3A696\", \"url\": \"http://t.co/BxUMEsymBe\"}], \"user_mentions\": [{\"id\": 580912774, \"name\": \"Hitwicket\", \"screen_name\": \"HitwicketGame\"}]}, \"statuses_count\": 106, \"time_zone\": \"New Delhi\", \"utc_offset\": 19800}\n"
     ]
    }
   ],
   "source": [
    "# to see if you have given the access keys properly:\n",
    "print api.VerifyCredentials()"
   ]
  },
  {
   "cell_type": "markdown",
   "metadata": {},
   "source": [
    "The response will be something like this {\"id\": 16133, \"location\": \"Philadelphia\", \"name\": \"bear\"}, a json object with a summary of details of your account.\n",
    "\n",
    "\n",
    "## Twitter Streaming API\n",
    "\n",
    "The twitter Streaming API gives you access to the current stream messages i.e you get access to the tweets that are currently being pushed to the twitter. You may no be able to access the whole but you will get <=1 percent of the twitter global stream and thats substantial amount of data.  But on contrary to the REST API offered by twitter, the streaming API has no rate limits. The only limit it has is the cap on the number of messages it delivers.\n",
    "\n",
    "The streaming API gives you the number of messages it couldnt deliver. [This is called the limit Notices](https://dev.twitter.com/streaming/overview/messages-types#limit_notices).\n",
    "\n",
    "\n",
    "\n",
    "### Usage:\n",
    "\n",
    "Twitter API enables us to specify parameters for filtering the data. The parameters can be keywords that we are looking for in tweets or  geo locations or usernames or user_id's.\n",
    "\n",
    "### Parameters :\n",
    "\n",
    "These are the various parameters that you can specify to get the data which you want from twitter:\n",
    "\n",
    "1. Keywords\n",
    "2. Geo location\n",
    "3. usernames\n",
    "4. userid (These are the unique ids assigned by twitter to each user)\n",
    "\n",
    "\n",
    "1. For example lets say we want to grab all tweets that have the word \"life\". Hence I use this keyword as a parameter to query the twitter Streaming API. The streaming API returns tweets that have the word _\"life\"_ from the current pushed messages.\n",
    "\n",
    "With python-twitter library this is how we do this:\n"
   ]
  },
  {
   "cell_type": "code",
   "execution_count": 2,
   "metadata": {
    "collapsed": false
   },
   "outputs": [
    {
     "name": "stdout",
     "output_type": "stream",
     "text": [
      "{u'contributors': None, u'truncated': False, u'text': u'RT @DailyMendesLife: Pls dm us your rants and confessions about Shawn and the Mendes Army so I can start posting!  https://t.co/Usor286c2y', u'is_quote_status': True, u'in_reply_to_status_id': None, u'id': 760565175132958721, u'favorite_count': 0, u'entities': {u'user_mentions': [{u'id': 2820952439, u'indices': [3, 19], u'id_str': u'2820952439', u'screen_name': u'DailyMendesLife', u'name': u'shawn mendes'}], u'symbols': [], u'hashtags': [], u'urls': [{u'url': u'https://t.co/Usor286c2y', u'indices': [115, 138], u'expanded_url': u'https://twitter.com/dailymendeslife/status/760564739600748549', u'display_url': u'twitter.com/dailymendeslif\\u2026'}]}, u'quoted_status_id': 760564739600748549, u'retweeted': False, u'coordinates': None, u'timestamp_ms': u'1470167843026', u'quoted_status': {u'contributors': None, u'truncated': False, u'text': u\"Guys we made another Insta it's @/rantingshawn where you guys can dm us your Shawn rants and confessions and we will post it anonymously!\", u'is_quote_status': False, u'in_reply_to_status_id': None, u'id': 760564739600748549, u'favorite_count': 21, u'source': u'<a href=\"http://twitter.com/download/iphone\" rel=\"nofollow\">Twitter for iPhone</a>', u'retweeted': False, u'coordinates': None, u'entities': {u'user_mentions': [], u'symbols': [], u'hashtags': [], u'urls': []}, u'in_reply_to_screen_name': None, u'id_str': u'760564739600748549', u'retweet_count': 4, u'in_reply_to_user_id': None, u'favorited': False, u'user': {u'follow_request_sent': None, u'profile_use_background_image': True, u'default_profile_image': False, u'id': 2820952439, u'verified': False, u'profile_image_url_https': u'https://pbs.twimg.com/profile_images/752622035126267904/G-K22LhL_normal.jpg', u'profile_sidebar_fill_color': u'DDEEF6', u'profile_text_color': u'333333', u'followers_count': 16466, u'profile_sidebar_border_color': u'C0DEED', u'id_str': u'2820952439', u'profile_background_color': u'C0DEED', u'listed_count': 33, u'profile_background_image_url_https': u'https://abs.twimg.com/images/themes/theme1/bg.png', u'utc_offset': -25200, u'statuses_count': 7228, u'description': u'Account owned by @MendesFeatures & @seIuminated', u'friends_count': 776, u'location': u'Instagram: @GoalWithMendes', u'profile_link_color': u'0084B4', u'profile_image_url': u'http://pbs.twimg.com/profile_images/752622035126267904/G-K22LhL_normal.jpg', u'following': None, u'geo_enabled': False, u'profile_banner_url': u'https://pbs.twimg.com/profile_banners/2820952439/1469148330', u'profile_background_image_url': u'http://abs.twimg.com/images/themes/theme1/bg.png', u'name': u'shawn mendes', u'lang': u'en', u'profile_background_tile': False, u'favourites_count': 32917, u'screen_name': u'DailyMendesLife', u'notifications': None, u'url': u'https://twitter.com/goalwithmendes/status/721478509927858176', u'created_at': u'Fri Oct 10 01:03:54 +0000 2014', u'contributors_enabled': False, u'time_zone': u'Pacific Time (US & Canada)', u'protected': False, u'default_profile': True, u'is_translator': False}, u'geo': None, u'in_reply_to_user_id_str': None, u'lang': u'en', u'created_at': u'Tue Aug 02 19:55:39 +0000 2016', u'filter_level': u'low', u'in_reply_to_status_id_str': None, u'place': None}, u'source': u'<a href=\"http://twitter.com/download/android\" rel=\"nofollow\">Twitter for Android</a>', u'in_reply_to_screen_name': None, u'id_str': u'760565175132958721', u'retweet_count': 0, u'in_reply_to_user_id': None, u'favorited': False, u'retweeted_status': {u'contributors': None, u'truncated': False, u'text': u'Pls dm us your rants and confessions about Shawn and the Mendes Army so I can start posting!  https://t.co/Usor286c2y', u'is_quote_status': True, u'in_reply_to_status_id': None, u'id': 760565123937366016, u'favorite_count': 7, u'entities': {u'user_mentions': [], u'symbols': [], u'hashtags': [], u'urls': [{u'url': u'https://t.co/Usor286c2y', u'indices': [94, 117], u'expanded_url': u'https://twitter.com/dailymendeslife/status/760564739600748549', u'display_url': u'twitter.com/dailymendeslif\\u2026'}]}, u'quoted_status_id': 760564739600748549, u'retweeted': False, u'coordinates': None, u'quoted_status': {u'contributors': None, u'truncated': False, u'text': u\"Guys we made another Insta it's @/rantingshawn where you guys can dm us your Shawn rants and confessions and we will post it anonymously!\", u'is_quote_status': False, u'in_reply_to_status_id': None, u'id': 760564739600748549, u'favorite_count': 21, u'source': u'<a href=\"http://twitter.com/download/iphone\" rel=\"nofollow\">Twitter for iPhone</a>', u'retweeted': False, u'coordinates': None, u'entities': {u'user_mentions': [], u'symbols': [], u'hashtags': [], u'urls': []}, u'in_reply_to_screen_name': None, u'id_str': u'760564739600748549', u'retweet_count': 4, u'in_reply_to_user_id': None, u'favorited': False, u'user': {u'follow_request_sent': None, u'profile_use_background_image': True, u'default_profile_image': False, u'id': 2820952439, u'verified': False, u'profile_image_url_https': u'https://pbs.twimg.com/profile_images/752622035126267904/G-K22LhL_normal.jpg', u'profile_sidebar_fill_color': u'DDEEF6', u'profile_text_color': u'333333', u'followers_count': 16466, u'profile_sidebar_border_color': u'C0DEED', u'id_str': u'2820952439', u'profile_background_color': u'C0DEED', u'listed_count': 33, u'profile_background_image_url_https': u'https://abs.twimg.com/images/themes/theme1/bg.png', u'utc_offset': -25200, u'statuses_count': 7228, u'description': u'Account owned by @MendesFeatures & @seIuminated', u'friends_count': 776, u'location': u'Instagram: @GoalWithMendes', u'profile_link_color': u'0084B4', u'profile_image_url': u'http://pbs.twimg.com/profile_images/752622035126267904/G-K22LhL_normal.jpg', u'following': None, u'geo_enabled': False, u'profile_banner_url': u'https://pbs.twimg.com/profile_banners/2820952439/1469148330', u'profile_background_image_url': u'http://abs.twimg.com/images/themes/theme1/bg.png', u'name': u'shawn mendes', u'lang': u'en', u'profile_background_tile': False, u'favourites_count': 32917, u'screen_name': u'DailyMendesLife', u'notifications': None, u'url': u'https://twitter.com/goalwithmendes/status/721478509927858176', u'created_at': u'Fri Oct 10 01:03:54 +0000 2014', u'contributors_enabled': False, u'time_zone': u'Pacific Time (US & Canada)', u'protected': False, u'default_profile': True, u'is_translator': False}, u'geo': None, u'in_reply_to_user_id_str': None, u'lang': u'en', u'created_at': u'Tue Aug 02 19:55:39 +0000 2016', u'filter_level': u'low', u'in_reply_to_status_id_str': None, u'place': None}, u'source': u'<a href=\"http://twitter.com/download/iphone\" rel=\"nofollow\">Twitter for iPhone</a>', u'in_reply_to_screen_name': None, u'id_str': u'760565123937366016', u'retweet_count': 4, u'in_reply_to_user_id': None, u'favorited': False, u'user': {u'follow_request_sent': None, u'profile_use_background_image': True, u'default_profile_image': False, u'id': 2820952439, u'verified': False, u'profile_image_url_https': u'https://pbs.twimg.com/profile_images/752622035126267904/G-K22LhL_normal.jpg', u'profile_sidebar_fill_color': u'DDEEF6', u'profile_text_color': u'333333', u'followers_count': 16466, u'profile_sidebar_border_color': u'C0DEED', u'id_str': u'2820952439', u'profile_background_color': u'C0DEED', u'listed_count': 33, u'profile_background_image_url_https': u'https://abs.twimg.com/images/themes/theme1/bg.png', u'utc_offset': -25200, u'statuses_count': 7228, u'description': u'Account owned by @MendesFeatures & @seIuminated', u'friends_count': 776, u'location': u'Instagram: @GoalWithMendes', u'profile_link_color': u'0084B4', u'profile_image_url': u'http://pbs.twimg.com/profile_images/752622035126267904/G-K22LhL_normal.jpg', u'following': None, u'geo_enabled': False, u'profile_banner_url': u'https://pbs.twimg.com/profile_banners/2820952439/1469148330', u'profile_background_image_url': u'http://abs.twimg.com/images/themes/theme1/bg.png', u'name': u'shawn mendes', u'lang': u'en', u'profile_background_tile': False, u'favourites_count': 32917, u'screen_name': u'DailyMendesLife', u'notifications': None, u'url': u'https://twitter.com/goalwithmendes/status/721478509927858176', u'created_at': u'Fri Oct 10 01:03:54 +0000 2014', u'contributors_enabled': False, u'time_zone': u'Pacific Time (US & Canada)', u'protected': False, u'default_profile': True, u'is_translator': False}, u'geo': None, u'in_reply_to_user_id_str': None, u'possibly_sensitive': False, u'lang': u'en', u'created_at': u'Tue Aug 02 19:57:10 +0000 2016', u'quoted_status_id_str': u'760564739600748549', u'filter_level': u'low', u'in_reply_to_status_id_str': None, u'place': None}, u'user': {u'follow_request_sent': None, u'profile_use_background_image': True, u'default_profile_image': False, u'id': 357243270, u'verified': False, u'profile_image_url_https': u'https://pbs.twimg.com/profile_images/756939005858500608/GYWbvXIM_normal.jpg', u'profile_sidebar_fill_color': u'18E9F0', u'profile_text_color': u'3C3940', u'followers_count': 3344, u'profile_sidebar_border_color': u'FFFFFF', u'id_str': u'357243270', u'profile_background_color': u'FFFFFF', u'listed_count': 15, u'profile_background_image_url_https': u'https://pbs.twimg.com/profile_background_images/699755534853877760/KavcTPpB.jpg', u'utc_offset': -18000, u'statuses_count': 89240, u'description': u'raul mendes is my favourite person in the world', u'friends_count': 1735, u'location': None, u'profile_link_color': u'000000', u'profile_image_url': u'http://pbs.twimg.com/profile_images/756939005858500608/GYWbvXIM_normal.jpg', u'following': None, u'geo_enabled': True, u'profile_banner_url': u'https://pbs.twimg.com/profile_banners/357243270/1469393622', u'profile_background_image_url': u'http://pbs.twimg.com/profile_background_images/699755534853877760/KavcTPpB.jpg', u'name': u'bel', u'lang': u'es', u'profile_background_tile': True, u'favourites_count': 31529, u'screen_name': u'shawnisourangel', u'notifications': None, u'url': u'http://smarturl.it/IlluminateSM', u'created_at': u'Thu Aug 18 02:12:53 +0000 2011', u'contributors_enabled': False, u'time_zone': u'Mexico City', u'protected': False, u'default_profile': False, u'is_translator': False}, u'geo': None, u'in_reply_to_user_id_str': None, u'possibly_sensitive': False, u'lang': u'en', u'created_at': u'Tue Aug 02 19:57:23 +0000 2016', u'quoted_status_id_str': u'760564739600748549', u'filter_level': u'low', u'in_reply_to_status_id_str': None, u'place': None}\n"
     ]
    }
   ],
   "source": [
    "# used break becuase : I just want to exit the loop for printing one line\n",
    "for tweet in api.GetStreamFilter(track='life'):\n",
    "    print tweet\n",
    "    break"
   ]
  },
  {
   "cell_type": "markdown",
   "metadata": {},
   "source": [
    "__That is how the output looks like.__  The data is in JSON format. Surprisingly all that information is just realated to one tweet. We will cover later more on JSON format and structure of the json data that we get from twitter, for now lets focus on the collection of the data from twitter.\n",
    "\n",
    "\n",
    "Since we are trying to grab the streaming data, which is a  continious process (unless we stop it), it's better that we save the data to a file. Make sure this file is located on a disk with considerable space as the file size keeps on increasing due to the nature of the streaming data. "
   ]
  },
  {
   "cell_type": "code",
   "execution_count": null,
   "metadata": {
    "collapsed": false
   },
   "outputs": [],
   "source": [
    "# lets save the json data to a file: streamingData.json\n",
    "# \"\\n\" is new line. We save the data to a file,\n",
    "# with each new line we save all the information related to one tweet\n",
    "\n",
    "f = open('./streamingData.json', 'w')\n",
    "for tweet in api.GetStreamFilter(track='life'):\n",
    "    f.write(json.dumps(tweet))\n",
    "    f.write('\\n')    \n",
    "    "
   ]
  },
  {
   "cell_type": "markdown",
   "metadata": {},
   "source": [
    " ## Twiiter Search API:\n",
    "\n",
    "Twitter rest API is another way to get data from twitter. But unlike the streaming API the rest API has the API rate limitaitons i.e the number of calls or requests that you make are limited  to certain number for a given window of time (most of them have 15 minutes window). But with rest API your search parameters are applied against the historical data of one week. These api rate limits vary depending on the kind of query you are making.\n",
    "\n",
    "Using Search API with python-twitter:\n",
    "\n",
    "   The search API expects encoded url format. You supply a hardcoded url which has the parameters listed in it. This is how you do this with python-twitter:"
   ]
  },
  {
   "cell_type": "code",
   "execution_count": 38,
   "metadata": {
    "collapsed": false
   },
   "outputs": [
    {
     "name": "stdout",
     "output_type": "stream",
     "text": [
      "100\n",
      "{\"created_at\": \"Sun Jul 03 00:54:25 +0000 2016\", \"hashtags\": [], \"id\": 749405904525754369, \"id_str\": \"749405904525754369\", \"lang\": \"en\", \"retweet_count\": 10, \"retweeted_status\": {\"created_at\": \"Sun Jul 03 00:34:55 +0000 2016\", \"favorite_count\": 17, \"hashtags\": [], \"id\": 749400995726106624, \"id_str\": \"749400995726106624\", \"lang\": \"en\", \"retweet_count\": 10, \"source\": \"<a href=\\\"http://twitter.com/download/iphone\\\" rel=\\\"nofollow\\\">Twitter for iPhone</a>\", \"text\": \"don't let the things of this world rob you of your spiritual life\", \"urls\": [], \"user\": {\"created_at\": \"Wed May 07 03:28:55 +0000 2014\", \"default_profile\": true, \"description\": \"child of God, heaven is my home\", \"favourites_count\": 34060, \"followers_count\": 6599, \"friends_count\": 641, \"id\": 2481242240, \"lang\": \"en\", \"listed_count\": 29, \"location\": \"pittsburgh\", \"name\": \"dante lee \\u271e\", \"profile_background_color\": \"C0DEED\", \"profile_background_image_url\": \"http://abs.twimg.com/images/themes/theme1/bg.png\", \"profile_banner_url\": \"https://pbs.twimg.com/profile_banners/2481242240/1464542980\", \"profile_image_url\": \"http://pbs.twimg.com/profile_images/737134592503783424/7yQi_q7O_normal.jpg\", \"profile_link_color\": \"0084B4\", \"profile_sidebar_fill_color\": \"DDEEF6\", \"profile_text_color\": \"333333\", \"screen_name\": \"whoknowsdante\", \"statuses_count\": 3582, \"time_zone\": \"Atlantic Time (Canada)\", \"utc_offset\": -10800}, \"user_mentions\": []}, \"source\": \"<a href=\\\"http://twitter.com/download/iphone\\\" rel=\\\"nofollow\\\">Twitter for iPhone</a>\", \"text\": \"RT @whoknowsdante: don't let the things of this world rob you of your spiritual life\", \"urls\": [], \"user\": {\"created_at\": \"Tue Nov 19 01:35:17 +0000 2013\", \"default_profile\": true, \"description\": \"\\u2022beyond blessed \\u2022Joshua 21:45 \\u2022CCH\\u2764\\ufe0f\\u2022Snapchat: tatianaa_reneee\", \"favourites_count\": 64297, \"followers_count\": 1514, \"friends_count\": 966, \"geo_enabled\": true, \"id\": 2186766317, \"lang\": \"en\", \"listed_count\": 5, \"location\": \"Florida \", \"name\": \"\\u271datiana\", \"profile_background_color\": \"C0DEED\", \"profile_background_image_url\": \"http://abs.twimg.com/images/themes/theme1/bg.png\", \"profile_banner_url\": \"https://pbs.twimg.com/profile_banners/2186766317/1465481330\", \"profile_image_url\": \"http://pbs.twimg.com/profile_images/740910215881707520/wxI7_Ylz_normal.jpg\", \"profile_link_color\": \"0084B4\", \"profile_sidebar_fill_color\": \"DDEEF6\", \"profile_text_color\": \"333333\", \"screen_name\": \"Totttt_35\", \"statuses_count\": 27255}, \"user_mentions\": [{\"id\": 2481242240, \"name\": \"dante lee \\u271e\", \"screen_name\": \"whoknowsdante\"}]}\n"
     ]
    }
   ],
   "source": [
    "# search with keyword \"life\" with q=life:\n",
    "# limit the number of tweets to <span class=\"burk\"><span class=\"mark\">100</span></span> with count=100\n",
    "# limit tweets to the most recent tweets with result_type=recent\n",
    "# The paratmeters \"count\", \"q\", \"result_type\" are seperated by '&'.DS_Store\n",
    "# %20 just implies a space. \n",
    "\n",
    "results = api.GetSearch( raw_query=\"q=life%20&result_type=recent&count=100\")\n",
    "print len(results)        # count the number of records returend by the query\n",
    "print results[0]          # print and see an example one tweet instance."
   ]
  },
  {
   "cell_type": "markdown",
   "metadata": {},
   "source": [
    "\n",
    "\n",
    "\n",
    "<br><br><br><br>\n",
    "\n",
    "## Try and Explore:\n",
    "\n",
    "1. Try set up a streaming for twitter using the geolocations as the query paramter.\n",
    "\n",
    "2. Try the same with the search API as well.\n",
    "\n",
    "__references__\n",
    "1. For referecne twitter has an excellent documentation of [twitter API](https://dev.twitter.com/streaming/overview/request-parameters#locations). <br>\n",
    "2. For references to [python-twitter library](http://python-twitter.readthedocs.io/en/latest/). You can use any library to try this. \n",
    "\n",
    "\n",
    "\n",
    "Now that we have all this JSON data from twitter stored in a file, let's take a quick peak at what is JSON and how we can parse this data using python []()"
   ]
  }
 ],
 "metadata": {
  "kernelspec": {
   "display_name": "Python 2",
   "language": "python",
   "name": "python2"
  },
  "language_info": {
   "codemirror_mode": {
    "name": "ipython",
    "version": 2
   },
   "file_extension": ".py",
   "mimetype": "text/x-python",
   "name": "python",
   "nbconvert_exporter": "python",
   "pygments_lexer": "ipython2",
   "version": "2.7.10"
  },
  "toc": {
   "toc_cell": true,
   "toc_number_sections": true,
   "toc_section_display": "block",
   "toc_threshold": "1",
   "toc_window_display": true
  },
  "toc_position": {
   "height": "192px",
   "left": "1027.171875px",
   "right": "20px",
   "top": "120px",
   "width": "188px"
  },
  "widgets": {
   "state": {},
   "version": "1.1.2"
  }
 },
 "nbformat": 4,
 "nbformat_minor": 0
}
