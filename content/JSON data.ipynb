{
 "cells": [
  {
   "cell_type": "markdown",
   "metadata": {},
   "source": [
    "## JSON \n",
    "\n",
    "JSON is a data format that is used for storing or exchanging information and exchanging information. But JSON is human readable and easy to parse. And most importantly it is structured.\n",
    "\n",
    "\n",
    "A simple example of json:\n",
    "\n",
    "```JSON\n",
    "{\n",
    "  \"name\": \"jason\",\n",
    "  \"age\": 24,\n",
    "  \"gender\":\"male\"\n",
    "}\n",
    "```\n",
    "\n",
    "Fundamentally a json can be built using two things:\n",
    "\n",
    "### Key Value pairs:\n",
    "\n",
    "You can also call them as property value pairs. Imagine you are collecting data for a classroom. Then your data should store values of properties related to the classroom or students. Some of properties you can consider are \"student_id\", \"name\", \"class\" etc. The json for it would look something like this:\n",
    "\n",
    "```JSON\n",
    "{\n",
    "  \"student_id\": \"514300234324\",\n",
    "  \"name\":\"bran\",\n",
    "  \"class\":\"12\"\n",
    "}\n",
    "```\n",
    "\n",
    "\n",
    "### list :\n",
    "\n",
    "Some times the value of a property can be a list of values ( not just one value). The below example shows that:\n",
    "\n",
    "```JSON\n",
    "{\n",
    "  \"hero\": \"ironman\",\n",
    "  \"powers\": [\"cool\", \"ironSuit\", \"intellignet\"]\n",
    "}\n",
    "```\n",
    "\n",
    "\n",
    "### nested JSON:\n",
    "\n",
    "A JSON object inside another JSON:\n",
    "\n",
    "```JSON\n",
    "\n",
    "{\n",
    "   \"id\" : \"1234\",\n",
    "   \"name\": {\n",
    "             \"firstName\": \"jason\",\n",
    "             \"lastName\": \"b\"\n",
    "         }\n",
    "}\n",
    "```\n",
    "\n",
    "\n",
    "\n",
    "## JSON library\n",
    "\n",
    "As you can see any of the above examples are easily readable. Similarly they are also easily parsable. To parse JOSN data in python we shall use the ___json___ library. \n",
    "\n",
    "The ___json___ library parses the JSON data from either the files or the  strings. It converts the JSON data into a python dictionary and viceversa.\n",
    "\n",
    "Consider the following JSON string:\n"
   ]
  },
  {
   "cell_type": "code",
   "execution_count": 50,
   "metadata": {
    "collapsed": true
   },
   "outputs": [],
   "source": [
    "json_string = '{ \"name\": \"brian\", \"age\": 24, \"gender\":\"male\", \"skills\": [\"programming\", \"musician\"]}'"
   ]
  },
  {
   "cell_type": "markdown",
   "metadata": {},
   "source": [
    "Lets parse this string using the python's ___json___ library:"
   ]
  },
  {
   "cell_type": "code",
   "execution_count": 53,
   "metadata": {
    "collapsed": false
   },
   "outputs": [],
   "source": [
    "import json\n",
    "json_obj= json.loads(json_string)"
   ]
  },
  {
   "cell_type": "markdown",
   "metadata": {},
   "source": [
    "And we can access the parsed data like this:"
   ]
  },
  {
   "cell_type": "code",
   "execution_count": 54,
   "metadata": {
    "collapsed": false
   },
   "outputs": [
    {
     "name": "stdout",
     "output_type": "stream",
     "text": [
      "brian\n",
      "24\n",
      "male\n",
      "[u'programming', u'musician']\n"
     ]
    }
   ],
   "source": [
    "print json_obj[\"name\"]\n",
    "print json_obj[\"age\"]\n",
    "print json_obj[\"gender\"]\n",
    "print json_obj[\"skills\"]"
   ]
  },
  {
   "cell_type": "raw",
   "metadata": {},
   "source": [
    "### parsing JSON from files:\n",
    "\n",
    "If we remember, in the last chapter we have saved the all the twitter streaming data to a file called streamingData.json . We can use the json library to the parse the data in these files: "
   ]
  },
  {
   "cell_type": "code",
   "execution_count": 75,
   "metadata": {
    "collapsed": false
   },
   "outputs": [
    {
     "name": "stdout",
     "output_type": "stream",
     "text": [
      "Total number of tweets loaded:  5662\n"
     ]
    }
   ],
   "source": [
    "data=[]\n",
    "with open('./streamingData.json', 'r') as jsonFile:\n",
    "    for line in jsonFile:\n",
    "        data.append(json.loads(line))\n",
    "        \n",
    "print \"Total number of tweets loaded: \", len(data)"
   ]
  },
  {
   "cell_type": "markdown",
   "metadata": {},
   "source": [
    "All the tweets with their related information are stored in the list named \"data\". Lets check the different properties that a tweet has:"
   ]
  },
  {
   "cell_type": "code",
   "execution_count": 83,
   "metadata": {
    "collapsed": false
   },
   "outputs": [
    {
     "name": "stdout",
     "output_type": "stream",
     "text": [
      "[u'contributors', u'truncated', u'text', u'is_quote_status', u'in_reply_to_status_id', u'id', u'favorite_count', u'source', u'retweeted', u'coordinates', u'timestamp_ms', u'entities', u'in_reply_to_screen_name', u'in_reply_to_user_id', u'retweet_count', u'id_str', u'favorited', u'user', u'geo', u'in_reply_to_user_id_str', u'lang', u'created_at', u'filter_level', u'in_reply_to_status_id_str', u'place']\n",
      "#BaşbakanaSoruyorum atılan her iki twitten biri\n",
      "Engelli Öğretmenlere ait, sn @handefrt nasıl\n",
      "görmüyorsun bu. #EngelliOgretmenAlimiOlacakmi\"\n"
     ]
    }
   ],
   "source": [
    "print data[0].keys()   # properties\n",
    "print data[0][\"text\"]  # how to access the  tweet message itself"
   ]
  },
  {
   "cell_type": "markdown",
   "metadata": {},
   "source": [
    "This is all the properties for one tweet. But for now we will only need actual tweet text and can ignore the rest of the other proprerties."
   ]
  },
  {
   "cell_type": "code",
   "execution_count": 94,
   "metadata": {
    "collapsed": false
   },
   "outputs": [
    {
     "name": "stdout",
     "output_type": "stream",
     "text": [
      "total no of tweets extracted from json:  5230\n"
     ]
    }
   ],
   "source": [
    "tweets = []\n",
    "for item in data:\n",
    "    if \"text\" in item.keys():\n",
    "        tweet = item[\"text\"]\n",
    "        tweets.append(tweet)\n",
    "    \n",
    "print \"total no of tweets extracted from json: \", len(tweets)"
   ]
  },
  {
   "cell_type": "markdown",
   "metadata": {},
   "source": [
    "There is difference between the json objects count and tweets count becuase, not all json objects have tweets, some might just be empty. \n",
    "\n",
    "\n",
    "<br><br><br><br>\n",
    "\n",
    "\n",
    "## To do:\n",
    "\n",
    "Work on the twitter data that you have extracted in previous chapters: \n",
    "\n",
    "1. Try load the json from file into memory \n",
    "2. Check out the various keys for any one json object, there are some intresting data fields that can be used for different projects. \n",
    "3. Try extract the tweets alone from this json dataset. "
   ]
  },
  {
   "cell_type": "code",
   "execution_count": null,
   "metadata": {
    "collapsed": true
   },
   "outputs": [],
   "source": []
  }
 ],
 "metadata": {
  "kernelspec": {
   "display_name": "Python 2",
   "language": "python",
   "name": "python2"
  },
  "language_info": {
   "codemirror_mode": {
    "name": "ipython",
    "version": 2
   },
   "file_extension": ".py",
   "mimetype": "text/x-python",
   "name": "python",
   "nbconvert_exporter": "python",
   "pygments_lexer": "ipython2",
   "version": "2.7.10"
  },
  "toc": {
   "toc_cell": false,
   "toc_number_sections": false,
   "toc_threshold": "1",
   "toc_window_display": false
  },
  "widgets": {
   "state": {},
   "version": "1.1.2"
  }
 },
 "nbformat": 4,
 "nbformat_minor": 0
}
