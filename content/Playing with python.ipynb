{
 "cells": [
  {
   "cell_type": "markdown",
   "metadata": {
    "toc": "true"
   },
   "source": [
    "# Table of Contents\n",
    " <p><div class=\"lev1\"><a href=\"#A-simple-introduction-to-python:\"><span class=\"toc-item-num\">1&nbsp;&nbsp;</span>A simple introduction to python:</a></div><div class=\"lev1\"><a href=\"#Variables-in-python:\"><span class=\"toc-item-num\">2&nbsp;&nbsp;</span>Variables in python:</a></div><div class=\"lev1\"><a href=\"#Printing-to-standard-output-:\"><span class=\"toc-item-num\">3&nbsp;&nbsp;</span>Printing to standard output :</a></div><div class=\"lev1\"><a href=\"#Python-String-functions-:\"><span class=\"toc-item-num\">4&nbsp;&nbsp;</span>Python String functions :</a></div><div class=\"lev2\"><a href=\"#lower\"><span class=\"toc-item-num\">4.1&nbsp;&nbsp;</span>lower</a></div><div class=\"lev2\"><a href=\"#upper\"><span class=\"toc-item-num\">4.2&nbsp;&nbsp;</span>upper</a></div><div class=\"lev2\"><a href=\"#capitalize\"><span class=\"toc-item-num\">4.3&nbsp;&nbsp;</span>capitalize</a></div><div class=\"lev2\"><a href=\"#count\"><span class=\"toc-item-num\">4.4&nbsp;&nbsp;</span>count</a></div><div class=\"lev2\"><a href=\"#split\"><span class=\"toc-item-num\">4.5&nbsp;&nbsp;</span>split</a></div><div class=\"lev2\"><a href=\"#strip\"><span class=\"toc-item-num\">4.6&nbsp;&nbsp;</span>strip</a></div><div class=\"lev2\"><a href=\"#join\"><span class=\"toc-item-num\">4.7&nbsp;&nbsp;</span>join</a></div><div class=\"lev2\"><a href=\"#index\"><span class=\"toc-item-num\">4.8&nbsp;&nbsp;</span>index</a></div><div class=\"lev2\"><a href=\"#replace\"><span class=\"toc-item-num\">4.9&nbsp;&nbsp;</span>replace</a></div>"
   ]
  },
  {
   "cell_type": "markdown",
   "metadata": {},
   "source": [
    "# A simple introduction to python:\n",
    "\n",
    "Python is simple, fast and most importantly easy to learn language. Though I am not an expert at languages a good programming language should not make you worry or think about the implementation over logic. \n",
    "\n",
    "The best way to get introduced to python is to start using it : \n",
    "\n",
    "\n",
    "# Variables in python:\n",
    "\n",
    "Variables are lables that store a value which you have assigned to them. You can store strings or numbers.\n",
    "In python you can easily initialize variables ( numbers and strings) as shown below:"
   ]
  },
  {
   "cell_type": "code",
   "execution_count": 152,
   "metadata": {
    "collapsed": false
   },
   "outputs": [
    {
     "name": "stdout",
     "output_type": "stream",
     "text": [
      "5\n",
      "I am no\n"
     ]
    }
   ],
   "source": [
    "# consider two variables a, b\n",
    "a =  1\n",
    "b =  \"I love programming\"\n",
    "\n",
    "# playing with numbers\n",
    "print a * 5\n",
    "# printing the strindg\n",
    "print b"
   ]
  },
  {
   "cell_type": "code",
   "execution_count": 153,
   "metadata": {
    "collapsed": false
   },
   "outputs": [
    {
     "name": "stdout",
     "output_type": "stream",
     "text": [
      "5\n"
     ]
    }
   ],
   "source": [
    "# In above example a * 5 gvies the value of 5, but to remember this value we have to store:\n",
    "c = a * 5\n",
    "print c"
   ]
  },
  {
   "cell_type": "markdown",
   "metadata": {},
   "source": [
    "# Printing to standard output :\n",
    "\n",
    "You can simply print the values in variables to standard output using the \"print\" statement as shown below:"
   ]
  },
  {
   "cell_type": "code",
   "execution_count": 154,
   "metadata": {
    "collapsed": false
   },
   "outputs": [
    {
     "name": "stdout",
     "output_type": "stream",
     "text": [
      "I am no 1\n"
     ]
    }
   ],
   "source": [
    "print b, a "
   ]
  },
  {
   "cell_type": "code",
   "execution_count": 168,
   "metadata": {
    "collapsed": false
   },
   "outputs": [
    {
     "name": "stdout",
     "output_type": "stream",
     "text": [
      "life is good also great! I am no 1\n"
     ]
    }
   ],
   "source": [
    "# print can be also used to output strings , not just variables:\n",
    "print \"life is good\", \"also great!\", b, a "
   ]
  },
  {
   "cell_type": "markdown",
   "metadata": {},
   "source": [
    "# Python Strings\n",
    "\n",
    "1. Python has a built in str class which offer various functionality .\n",
    "2. Strings are immutable.\n",
    "3. Strings are declared either betweet doeble quotes (\"\") or single quotes ('')"
   ]
  },
  {
   "cell_type": "markdown",
   "metadata": {},
   "source": [
    "# Python String functions :\n",
    "\n",
    "Strings are the most commonly used data types in python. Strings come with some magical (nothing really magical) predefined functions that help us to play with them easily. \n",
    "\n",
    "And we will be using python string functions in the later part of this tutorial as well.Hence lets explore these magical functions that make our life easy:\n",
    "\n",
    "Lets consider an example string  \"Life is good\" and store is this in a variable:"
   ]
  },
  {
   "cell_type": "code",
   "execution_count": 156,
   "metadata": {
    "collapsed": false
   },
   "outputs": [],
   "source": [
    "# Example String assigned to variable s:\n",
    "s = \"life is GREAT.\""
   ]
  },
  {
   "cell_type": "markdown",
   "metadata": {},
   "source": [
    "## lower \n",
    "\n",
    "This function Return's a copy of the string converted to lowercase."
   ]
  },
  {
   "cell_type": "code",
   "execution_count": 157,
   "metadata": {
    "collapsed": false,
    "scrolled": false
   },
   "outputs": [
    {
     "name": "stdout",
     "output_type": "stream",
     "text": [
      "life is great.\n"
     ]
    }
   ],
   "source": [
    "print s.lower()"
   ]
  },
  {
   "cell_type": "markdown",
   "metadata": {},
   "source": [
    "## upper \n",
    "\n",
    "Similary the upper function returns a copy of the string converted to upercase."
   ]
  },
  {
   "cell_type": "code",
   "execution_count": 158,
   "metadata": {
    "collapsed": false
   },
   "outputs": [
    {
     "name": "stdout",
     "output_type": "stream",
     "text": [
      "LIFE IS GREAT.\n"
     ]
    }
   ],
   "source": [
    "print s.upper()"
   ]
  },
  {
   "cell_type": "markdown",
   "metadata": {},
   "source": [
    "## capitalize\n",
    "\n",
    "Return's  a copy of the string with only its first character changed to Capital."
   ]
  },
  {
   "cell_type": "code",
   "execution_count": 159,
   "metadata": {
    "collapsed": false
   },
   "outputs": [
    {
     "name": "stdout",
     "output_type": "stream",
     "text": [
      "Life is great.\n"
     ]
    }
   ],
   "source": [
    "print s.capitalize()"
   ]
  },
  {
   "cell_type": "markdown",
   "metadata": {},
   "source": [
    "## count\n",
    "\n",
    "This function helps you to count the occurances of a substring within another string.\n",
    "In the below example we are counting the occurances of sub string \"life\" in the string __s__"
   ]
  },
  {
   "cell_type": "code",
   "execution_count": 160,
   "metadata": {
    "collapsed": false
   },
   "outputs": [
    {
     "name": "stdout",
     "output_type": "stream",
     "text": [
      "1\n",
      "0\n",
      "2\n"
     ]
    }
   ],
   "source": [
    "print s.count(\"life\")\n",
    "print s.count(\"file\")\n",
    "print s.count(\"i\")"
   ]
  },
  {
   "cell_type": "markdown",
   "metadata": {
    "collapsed": true
   },
   "source": [
    "## split\n",
    "\n",
    "The split function helps you split the string into sequence of words. It takes a delimmeter, based on which it splits the string into substrings. The defualt delimmiter is space. \n",
    "\n",
    "If you have a sentence with words and want to extract each word in it , then split function can be used with sapce as an input delimmeter (which is default and need not be given as arguments). In the below example you can see that the output is a an list of substrings that the sentence is devided into. "
   ]
  },
  {
   "cell_type": "code",
   "execution_count": 161,
   "metadata": {
    "collapsed": false,
    "scrolled": true
   },
   "outputs": [
    {
     "name": "stdout",
     "output_type": "stream",
     "text": [
      "['life', 'is', 'GREAT.']\n",
      "['l', 'fe ', 's GREAT.']\n"
     ]
    }
   ],
   "source": [
    "print s.split()\n",
    "print s.split(\"i\")"
   ]
  },
  {
   "cell_type": "markdown",
   "metadata": {},
   "source": [
    "## strip\n",
    "\n",
    "Strip is used to remove leading and trailing white spaces. If you just want to remove the leading spaces of a string then use the __lstrip__ or if you just want to remove the  trailing spaces use the __rstrip__.  If characters are given as arguments, then strip removes the characters instead of spaces. The below examples show this clearly:\n"
   ]
  },
  {
   "cell_type": "code",
   "execution_count": 162,
   "metadata": {
    "collapsed": false
   },
   "outputs": [
    {
     "name": "stdout",
     "output_type": "stream",
     "text": [
      "life is GREAT.\n",
      "ife is GREAT\n"
     ]
    }
   ],
   "source": [
    "print s.strip()      # As no spaces in the original string , there is nothing to strip\n",
    "print s.strip('l.')  # This removes the '.' and 'l' if it occurs either at beginning or end of the sentence."
   ]
  },
  {
   "cell_type": "markdown",
   "metadata": {},
   "source": [
    "## join\n",
    "\n",
    "Join works in a special way. Imagine you have list of words __['hello', \"there!\", \"this\", \"is\", \"list\"]__ and you want to join these induvidual words to form the sentence _hello there! this is list_. Obviously we want join them by spaces. We want to insert spaces between each of these induviaul words and form a string. Python gives us the maigc function to do this, which is the join. It takes an input list of words as shown below:\n",
    "_Notice the quotes ' ' with space in between them in the below example. This is the character which we want to insert between the list of words that is passed as arguements._ "
   ]
  },
  {
   "cell_type": "code",
   "execution_count": 163,
   "metadata": {
    "collapsed": false,
    "scrolled": true
   },
   "outputs": [
    {
     "name": "stdout",
     "output_type": "stream",
     "text": [
      "hello there! this is list\n",
      "hello_there!_this_is_list\n",
      "hellothere!thisislist\n"
     ]
    }
   ],
   "source": [
    "# Notice the character between the quotes '_' or ' '.\n",
    "print ' '.join(['hello', \"there!\", \"this\", \"is\", \"list\"])\n",
    "print '_'.join([\"hello\", \"there!\", \"this\", \"is\", \"list\"])\n",
    "\n",
    "# if no character is given: it would join the words in list without spaces\n",
    "print ''.join(['hello', \"there!\", \"this\", \"is\", \"list\"])"
   ]
  },
  {
   "cell_type": "markdown",
   "metadata": {},
   "source": [
    "__NOTICE: Split and join do the opposite. And they are often used__"
   ]
  },
  {
   "cell_type": "code",
   "execution_count": 164,
   "metadata": {
    "collapsed": false,
    "scrolled": true
   },
   "outputs": [
    {
     "name": "stdout",
     "output_type": "stream",
     "text": [
      "hello there! this is list\n",
      "['hello', 'there!', 'this', 'is', 'list']\n"
     ]
    }
   ],
   "source": [
    "# join\n",
    "example = ' '.join(['hello', \"there!\", \"this\", \"is\", \"list\"])     \n",
    "print example \n",
    "\n",
    "# split\n",
    "print example.split() "
   ]
  },
  {
   "cell_type": "markdown",
   "metadata": {},
   "source": [
    "## index\n",
    "\n"
   ]
  },
  {
   "cell_type": "code",
   "execution_count": 165,
   "metadata": {
    "collapsed": false
   },
   "outputs": [
    {
     "name": "stdout",
     "output_type": "stream",
     "text": [
      "string s:  life is GREAT.\n",
      "position of substring 'is': 5\n"
     ]
    }
   ],
   "source": [
    "# index gives the position of a substring (this is given as argument) within a string\n",
    "print \"string s: \", s\n",
    "print \"position of substring 'is':\", s.index('is')\n"
   ]
  },
  {
   "cell_type": "markdown",
   "metadata": {
    "collapsed": false
   },
   "source": [
    "## replace"
   ]
  },
  {
   "cell_type": "code",
   "execution_count": 166,
   "metadata": {
    "collapsed": false
   },
   "outputs": [
    {
     "data": {
      "text/plain": [
       "'life is always GREAT.'"
      ]
     },
     "execution_count": 166,
     "metadata": {},
     "output_type": "execute_result"
    }
   ],
   "source": [
    "# replace removes all the occurances of a substring and replaces with a given characters.\n",
    "# s.replace(old, new)\n",
    "s.replace(\"is\", \"is always\")"
   ]
  }
 ],
 "metadata": {
  "kernelspec": {
   "display_name": "Python 2",
   "language": "python",
   "name": "python2"
  },
  "language_info": {
   "codemirror_mode": {
    "name": "ipython",
    "version": 2
   },
   "file_extension": ".py",
   "mimetype": "text/x-python",
   "name": "python",
   "nbconvert_exporter": "python",
   "pygments_lexer": "ipython2",
   "version": "2.7.10"
  },
  "toc": {
   "toc_cell": true,
   "toc_number_sections": true,
   "toc_section_display": "none",
   "toc_threshold": 6,
   "toc_window_display": true
  }
 },
 "nbformat": 4,
 "nbformat_minor": 0
}
