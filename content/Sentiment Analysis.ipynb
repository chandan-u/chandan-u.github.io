{
 "cells": [
  {
   "cell_type": "markdown",
   "metadata": {},
   "source": [
    "# Sentiment Analysis:\n",
    "\n",
    "The whole idea of text mining is about gaining insights in textual data. Sentiment anaysis is one of the important applications in the area of text mining. _It tries to identify weather the opinoin expressed in a text is positive, negitive or netural towards a given topic._\n",
    "\n",
    "For example,\n",
    "\n",
    "1. _I am happy about my promotion_\n",
    "2. _I feel sad evers since I heard the news_\n",
    "\n",
    "In the above two sentences, both express an opinion about something. In the first sentence the writer is \"happy\" about the _promotion_. In the second sentence the _\"news\"_ made the writer \"sad\". Happy is a positive reaction and sad is a negitive reaction. This is how we observe opinions in text. On the other hand neutral sentences do not express either positive or negitive opinion. The below sentences are examples of neutral sentences:\n",
    "\n",
    "1. _Terry is back from work_\n",
    "2. _I saw captain america part 1 and 2 ._\n",
    "\n",
    "\n",
    "\n",
    "## A simple Use Case:\n",
    "\n",
    "Suppose a new movie has been released and a firm wants to analyse  the viewers opinion about the movie. One obvious place where people express their opinons is the web. There are numerous web sites where poeple express their sentiments for movies such as IMDB.com, rottenTomatoes etc.  However the number of comments or reviews that these sites receive is huge. And it is extremely hard to go by each review manualy to analyse how reviewers feel about a movie. \n",
    "\n",
    "NOTE: Of course some sites along with comments also offer ratings on a scale of either five or ten. However a good data analysis would often consider both the the reviewers comments as well as their ratings to analyse the opinions of the reviewers. \n",
    "\n",
    "\n",
    "Opinion mining is not just limited to reviews alone. It can be used on any corpus such as blogs, tweets, books, comments etc. There are numerous methods to extract opinion from text. We are going to discuss a simplest approach for sentiment analysis. \n",
    "\n",
    "\n",
    "## LEXICON Based approach:\n",
    "\n",
    "A lexicon is nothing but a dictionary. The Lexicon based approach is the simplest baseline approach that is used for sentiment analysis of a corpus (A courps is  thing that has text such as blogs, documents, books, tweets etc). In this approach, as the name implies, we have a dictionary of words and each word has a  predefined score which we call the polarity of the word. We use the polarity of induvidual words in a document or sentence to determine weather the it is expressing positive or negitive or netural opinion. \n",
    "\n",
    "Lucky us there are some publicly available lexicons at our disposal. \"SentiWordNet\" is one such lexicon specifically meant for opinion mining. And to make things even more easy python's natural language tool kit (nltk) offers  functionality to use the SentiWordNet lexicon.\n",
    "\n",
    "\n",
    "You can instsall nltk using pip:\n",
    "\n",
    "```\n",
    "    pip install nltk\n",
    "```\n",
    "\n",
    "You can import the nltk package in python as shown below:"
   ]
  },
  {
   "cell_type": "code",
   "execution_count": 1,
   "metadata": {
    "collapsed": true
   },
   "outputs": [],
   "source": [
    "import nltk"
   ]
  },
  {
   "cell_type": "markdown",
   "metadata": {},
   "source": [
    "Python's NLTK is a very big library, apart from its own functionality, it has package installer that gives you access to many corpuses, datasets etc. We will use the sentiWordNet lexicon which is a dictionary of words with their polarity values. You can download the lexicon using the nltk's downloader: "
   ]
  },
  {
   "cell_type": "code",
   "execution_count": 2,
   "metadata": {
    "collapsed": false
   },
   "outputs": [
    {
     "name": "stdout",
     "output_type": "stream",
     "text": [
      "[nltk_data] Downloading package sentiwordnet to\n",
      "[nltk_data]     /Users/chandanuppuluri/nltk_data...\n",
      "[nltk_data]   Unzipping corpora/sentiwordnet.zip.\n"
     ]
    }
   ],
   "source": [
    "# download sentiwordnet lexicon and import it\n",
    "nltk.download('sentiwordnet')\n",
    "from nltk.corpus import sentiwordnet as swn \n"
   ]
  },
  {
   "cell_type": "markdown",
   "metadata": {},
   "source": [
    "### how to obtain polarities of a word:"
   ]
  },
  {
   "cell_type": "code",
   "execution_count": 3,
   "metadata": {
    "collapsed": false
   },
   "outputs": [
    {
     "name": "stdout",
     "output_type": "stream",
     "text": [
      "pos score:  0.875\n",
      "neg score:  0.0\n"
     ]
    }
   ],
   "source": [
    "\n",
    "print \"pos score: \", swn.senti_synsests(\"happy\", 'a')[0].pos_score()\n",
    "print \"neg score: \", swn.senti_synsets(\"happy\", 'a')[0].neg_score()\n"
   ]
  },
  {
   "cell_type": "markdown",
   "metadata": {
    "collapsed": true
   },
   "source": [
    "### Neutral score:"
   ]
  },
  {
   "cell_type": "code",
   "execution_count": 12,
   "metadata": {
    "collapsed": false
   },
   "outputs": [
    {
     "name": "stdout",
     "output_type": "stream",
     "text": [
      " neutral score:  0.125\n",
      "[SentiSynset('happy.a.01'), SentiSynset('felicitous.s.02'), SentiSynset('glad.s.02'), SentiSynset('happy.s.04')]\n"
     ]
    }
   ],
   "source": [
    "print \"neutral score: \", swn.senti_synsets(\"happy\", 'a')[0].obj_score()\n"
   ]
  },
  {
   "cell_type": "markdown",
   "metadata": {},
   "source": [
    "### Sentence Level Polarities:\n",
    "\n",
    "Now that we know how to obtain a polarity of a word, we can apply the same to the Sentence level. A sentence is usallaly group of words that convey some meaning and has a subject and a verb associated with the subject.\n",
    "\n",
    "> _The Idea is to calculate the polarities of induvidual words in a sentence and then compound them to determine the polarity of the entire sentence._\n",
    "\n",
    "For example consider the below positive sentence: \n",
    "\n",
    "* _\"I am happy.\"_\n",
    "   You can simply tell by looking at the above sentence that it is positive in nature. But the same can be derived computationly using senti wordnet lexicon. Lets see the polarity values for each word in the above sentence in the senti lexicon:"
   ]
  },
  {
   "cell_type": "code",
   "execution_count": 16,
   "metadata": {
    "collapsed": false
   },
   "outputs": [
    {
     "name": "stdout",
     "output_type": "stream",
     "text": [
      "<iodine.n.01: PosScore=0.0 NegScore=0.0>\n",
      "<be.v.01: PosScore=0.25 NegScore=0.125>\n",
      "<happy.a.01: PosScore=0.875 NegScore=0.0>\n"
     ]
    }
   ],
   "source": [
    "print swn.senti_synsets(\"i\", 'n')[0]\n",
    "print swn.senti_synsets(\"am\", 'v')[0]\n",
    "print swn.senti_synsets(\"happy\",\"a\")[0]\n",
    "\n"
   ]
  },
  {
   "cell_type": "markdown",
   "metadata": {},
   "source": [
    "If you observe the combined positive score is:  \n",
    "0.0 + 0.25 + 0.875 = 1.125\n",
    "\n",
    "The combined negitive score is:\n",
    "\n",
    "0.0 + 0.125 + 0.0 = 0.125\n",
    "\n",
    "__Since positive score is greater than negitive score, we conclude the sentence as postive opinion.__ If negitive score is greater than postive score than the conclusion will be the polarity of the sentence is negitive. \n",
    "\n",
    "\n",
    "#### tokenization:\n",
    "\n",
    "Tokenization is process of generating list of words that are present in a sentence i.e the sentence \"i am happy\" is converted into list as [\"i\", \"am\", \"happy\"]. You can use the nltk's word_tokenization fucntion:\n"
   ]
  },
  {
   "cell_type": "code",
   "execution_count": 30,
   "metadata": {
    "collapsed": false
   },
   "outputs": [
    {
     "name": "stdout",
     "output_type": "stream",
     "text": [
      "tokens:  ['i', 'am', 'happy']\n"
     ]
    }
   ],
   "source": [
    "tokens = nltk.tokenize.word_tokenize(\"i am happy\")  # returns a list of the words in the sentence.\n",
    "print \"tokens: \", tokens"
   ]
  },
  {
   "cell_type": "markdown",
   "metadata": {},
   "source": [
    "#### POS Tagging:\n",
    "\n",
    "\n",
    "We  have to determine now the parts of speech for each word in the sentence. We need Parts of speech of the word to obtain it's polarity. \n",
    "\n",
    "In the previous example sentence \"I am happy\", each word is associated with a parts of speech. \"I\" is a noun. \"am\" is a verb \"happy\" is a adjective.\n",
    "\n",
    "We need to specifiy the POS ( parts of speech ) of the word in the function swn.senti_synsets to obtain the polarity scores for that word. Lets see how we can achieve the parts of speech using the nltk tool:"
   ]
  },
  {
   "cell_type": "code",
   "execution_count": 29,
   "metadata": {
    "collapsed": false
   },
   "outputs": [
    {
     "data": {
      "text/plain": [
       "[('i', 'NN'), ('am', 'VBP'), ('happy', 'JJ')]"
      ]
     },
     "execution_count": 29,
     "metadata": {},
     "output_type": "execute_result"
    }
   ],
   "source": [
    "from nltk.tag import pos_tag\n",
    "pos_tag(tokens)"
   ]
  },
  {
   "cell_type": "markdown",
   "metadata": {},
   "source": [
    "NN - is noun\n",
    "\n",
    "VBP - verb\n",
    "\n",
    "JJ - Adjective\n",
    "\n",
    "\n",
    "In sentiwordnet: \n",
    "   1. Nouns are tagged as 'n'. \n",
    "   2. Verbs are tagged as 'v'.\n",
    "   3. adjectives are tagged as 'a'\n",
    "\n",
    "This exactly what we have done before to obtain the polarity of each word in a sentence:\n",
    "\n",
    "\n"
   ]
  },
  {
   "cell_type": "code",
   "execution_count": 34,
   "metadata": {
    "collapsed": false
   },
   "outputs": [
    {
     "name": "stdout",
     "output_type": "stream",
     "text": [
      "<iodine.n.01: PosScore=0.0 NegScore=0.0>\n",
      "<be.v.01: PosScore=0.25 NegScore=0.125>\n",
      "<happy.a.01: PosScore=0.875 NegScore=0.0>\n"
     ]
    }
   ],
   "source": [
    "print swn.senti_synsets(\"i\", 'n')[0]\n",
    "print swn.senti_synsets(\"am\", 'v')[0]\n",
    "print swn.senti_synsets(\"happy\",\"a\")[0]\n",
    "\n"
   ]
  },
  {
   "cell_type": "markdown",
   "metadata": {},
   "source": [
    "> NOTE: we are indexing with [0] because senti_synsets usually returns a list of words (that are of similar nature).\n",
    "    They all have the same scores. \n",
    "    \n",
    "    \n",
    "    "
   ]
  },
  {
   "cell_type": "markdown",
   "metadata": {},
   "source": [
    "\n",
    "#### Stopwords: \n",
    "\n",
    "When calculating polarities for words in sentences, we need not consider all the words. Some of the words do not carry any weight and can be ignored. These words do not have any affect on the polarity of a sentence. Such words are called stopwords. We can simply ignore the stopwords in a sentence and  calculate the polartiy of the remaining words. NLTK comes with a list of stopwords. "
   ]
  },
  {
   "cell_type": "code",
   "execution_count": 38,
   "metadata": {
    "collapsed": false
   },
   "outputs": [
    {
     "name": "stdout",
     "output_type": "stream",
     "text": [
      "The sentence has been reduced from : I am happy  : to :  ['happy']\n"
     ]
    }
   ],
   "source": [
    "from nltk.corpus import stopwords   # import stopwords \n",
    "\n",
    "stop = stopwords.words('english')   # initialize english stopwords\n",
    "\n",
    "new_sentence = []\n",
    "for word in tokens:\n",
    "    if word not in stop:\n",
    "        new_sentence.append(word)\n",
    "\n",
    "print \"The sentence has been reduced from :\", sentence, \" : to : \", new_sentence \n"
   ]
  },
  {
   "cell_type": "markdown",
   "metadata": {},
   "source": [
    "If we remove the stopwords we just have just have to cacluate the polarity for the word happy alone in our example. \n",
    "And for bigger and complex sentences you would be calculating the polarity for a fewer words."
   ]
  },
  {
   "cell_type": "markdown",
   "metadata": {},
   "source": [
    "\n",
    "\n",
    "\n",
    "## Things to do:\n",
    "\n",
    "1. In this chapter you have seen how to calculate the polarity of a sentence. Now write a progam to calculatet the polarity of all the tweets that you have extracted and preprocessed in the previous chapters. You progam should also include the below features: \n",
    "\n",
    "  a. Tweets have hashtags. Remove the hashtags and then find the polarity of each tweet. \n",
    "  b. There might be words that are not present in the sentiwordnet lexicon. The program should handle these cases, by giving a zero score for such words. \n"
   ]
  }
 ],
 "metadata": {
  "kernelspec": {
   "display_name": "Python 2",
   "language": "python",
   "name": "python2"
  },
  "language_info": {
   "codemirror_mode": {
    "name": "ipython",
    "version": 2
   },
   "file_extension": ".py",
   "mimetype": "text/x-python",
   "name": "python",
   "nbconvert_exporter": "python",
   "pygments_lexer": "ipython2",
   "version": "2.7.10"
  },
  "toc": {
   "toc_cell": false,
   "toc_number_sections": false,
   "toc_threshold": "1",
   "toc_window_display": false
  }
 },
 "nbformat": 4,
 "nbformat_minor": 0
}
