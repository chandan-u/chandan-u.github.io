{
 "cells": [
  {
   "cell_type": "markdown",
   "metadata": {},
   "source": [
    "\n",
    "HI I am Chandan\n",
    "I am a full time masters student who loves to code small and solve big, learn new and read good.\n",
    "\n",
    "\n",
    "### Interests\n",
    "\n",
    "My current interests lie in the area of machine learning, data analysis and information visualization.\n",
    "\n",
    "### github\n",
    "\n",
    "[![link to my github](../images/GitHub-Mark/PNG/GitHub-Mark-64px.png)](https://github.com/chandan-u)\n",
    "\n",
    "### linkedin\n",
    "\n",
    "[![Link to linkedin](../images/linkedin_logo_package/LinkedIn [in]/Screen/2-Color Reversed/In-2CRev-59px-TM.png)](https://www.linkedin.com/in/chandanu/)\n",
    "\n",
    "\n",
    "\n",
    "### Hobbies\n",
    "\n",
    "1. Roller Skating: I love skating. I have participated several times ( 11 times so far ) and even won medals at national level. \n",
    "\n",
    "2. Guiar: I spend most of the time plucking strings on my rusty old guitar. \n",
    "\n",
    "### Blogs I follow\n",
    "\n",
    "Lifehacker, minimalists etc\n",
    "\n",
    "\n",
    "\n",
    "\n",
    "\n"
   ]
  }
 ],
 "metadata": {
  "kernelspec": {
   "display_name": "Python 2",
   "language": "python",
   "name": "python2"
  },
  "language_info": {
   "codemirror_mode": {
    "name": "ipython",
    "version": 2
   },
   "file_extension": ".py",
   "mimetype": "text/x-python",
   "name": "python",
   "nbconvert_exporter": "python",
   "pygments_lexer": "ipython2",
   "version": "2.7.10"
  },
  "toc": {
   "toc_cell": false,
   "toc_number_sections": false,
   "toc_threshold": "1",
   "toc_window_display": false
  }
 },
 "nbformat": 4,
 "nbformat_minor": 1
}
