{
 "cells": [
  {
   "cell_type": "markdown",
   "metadata": {},
   "source": [
    "## Project\n",
    "\n",
    "Since the entire tuotrial, including the excerices(things to try sections) is focussed on data from twitter, it would be also nice to try data sets from different domains. Data from different domains present their own challenges and it's all about decision making and solving one problem at a time. You can try to perform sentiment ananlysis on the data from the below domains: \n",
    "\n",
    "\n",
    "### Yelp data set:\n",
    "\n",
    "This data set includes reviews, photos, ratings etc of restaurents:\n",
    "\n",
    "1. https://www.yelp.com/dataset_challenge\n",
    "\n",
    "The data is in json format which is very similar to the json that we have extracted from twitter. \n",
    "\n",
    "\n",
    "### Amazon review data:\n",
    "\n",
    "1. http://jmcauley.ucsd.edu/data/amazon/\n",
    "\n",
    "All the information is available in the link;\n",
    "\n",
    "\n",
    "\n",
    "\n",
    "\n",
    "\n"
   ]
  }
 ],
 "metadata": {
  "kernelspec": {
   "display_name": "Python 2",
   "language": "python",
   "name": "python2"
  },
  "language_info": {
   "codemirror_mode": {
    "name": "ipython",
    "version": 2
   },
   "file_extension": ".py",
   "mimetype": "text/x-python",
   "name": "python",
   "nbconvert_exporter": "python",
   "pygments_lexer": "ipython2",
   "version": "2.7.10"
  },
  "toc": {
   "toc_cell": false,
   "toc_number_sections": false,
   "toc_threshold": "1",
   "toc_window_display": false
  },
  "widgets": {
   "state": {},
   "version": "1.1.2"
  }
 },
 "nbformat": 4,
 "nbformat_minor": 0
}
