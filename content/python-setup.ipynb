{
 "cells": [
  {
   "cell_type": "markdown",
   "metadata": {
    "toc": "true"
   },
   "source": [
    "# Table of Contents\n",
    " <p><div class=\"lev1\"><a href=\"#Python-:-Setup-and-Installation\"><span class=\"toc-item-num\">1&nbsp;&nbsp;</span>Python : Setup and Installation</a></div><div class=\"lev1\"><a href=\"#Installing-Packages-for-python:-pip\"><span class=\"toc-item-num\">2&nbsp;&nbsp;</span>Installing Packages for python: pip</a></div>"
   ]
  },
  {
   "cell_type": "markdown",
   "metadata": {},
   "source": [
    "# Python : Setup and Installation\n",
    "\n",
    "   Its a good news for mac book and linux users: In either case python is comes out of the box and you need not install it. But in case of windows please follow the below setup instructions:\n",
    "\n",
    "   1. Download the official python windows installer from [here](https://www.python.org/downloads/).\n",
    "       \n",
    "   2. You can download and install the python2.7. Choose the 32 or 64 bit compatibility based on your machine.   \n",
    "       \n",
    "   3. Open the downloaded executable and follow all the steps. It installs the python at __C:\\python27__.  \n",
    "\n",
    "   4. Now you have to tell your computer where the python  and its packages are  located:\n",
    "      1. Right click computer and open properties.  \n",
    "      2. Navigate to advance system settings.  \n",
    "      3. Select Environmet variables.  \n",
    "      4. Under User varaibles select path and edit it to include the following:  \n",
    "        ```\n",
    "          C:\\Python27;C:\\Python27\\Lib\\site-packages\\;C:\\Python27\\Scripts\\;\n",
    "        ```  \n",
    "  \n",
    "   5. Now that you have setup and configured everything , in order to test it open the command prompt and type \"python\":\n",
    "    ```\n",
    "      c:\\>python\n",
    "    ```\n",
    "\n",
    "   6. If its showing a interpreter, your installation is a success:\n",
    "     ```\n",
    "       '>>>'\n",
    "     ```\n",
    "\n",
    "\n",
    "# Installing Packages for python: pip\n",
    "\n",
    "   Python installation does'nt come with all the packages . It only has limited and significant ones. Packages are a set of modules that are written to implement a task or satisfy a functionality. These packages can be downloaded and installed into python. Python comes with \"pip\" utility which makes life easy. This command downloads  the desirsed python package and installs if for you. Execute this command at the command line.\n",
    "   \n",
    "   ```\n",
    "      pip install <package-name>\n",
    "   ```\n",
    "   \n",
    "   Example: If you want to install tweepy a package that helps dealing with twitter API:\n",
    "   ```\n",
    "     pip install tweepy\n",
    "   ```\n",
    "   \n",
    "\n",
    "\n",
    "\n"
   ]
  },
  {
   "cell_type": "code",
   "execution_count": 1,
   "metadata": {
    "collapsed": false
   },
   "outputs": [
    {
     "name": "stdout",
     "output_type": "stream",
     "text": [
      "Requirement already satisfied (use --upgrade to upgrade): numpy in /Users/chandanuppuluri/classwork/Sentimental/env/lib/python2.7/site-packages\r\n"
     ]
    }
   ],
   "source": [
    "!pip install numpy"
   ]
  },
  {
   "cell_type": "code",
   "execution_count": null,
   "metadata": {
    "collapsed": true
   },
   "outputs": [],
   "source": []
  }
 ],
 "metadata": {
  "kernelspec": {
   "display_name": "Python 2",
   "language": "python",
   "name": "python2"
  },
  "language_info": {
   "codemirror_mode": {
    "name": "ipython",
    "version": 2
   },
   "file_extension": ".py",
   "mimetype": "text/x-python",
   "name": "python",
   "nbconvert_exporter": "python",
   "pygments_lexer": "ipython2",
   "version": "2.7.10"
  },
  "toc": {
   "toc_cell": true,
   "toc_number_sections": true,
   "toc_threshold": 6,
   "toc_window_display": false
  }
 },
 "nbformat": 4,
 "nbformat_minor": 0
}
