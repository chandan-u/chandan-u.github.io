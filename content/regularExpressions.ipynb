{
 "cells": [
  {
   "cell_type": "markdown",
   "metadata": {
    "toc": "true"
   },
   "source": [
    "# Table of Contents\n",
    " <p><div class=\"lev1\"><a href=\"#Regular-expressions\"><span class=\"toc-item-num\">1&nbsp;&nbsp;</span>Regular expressions</a></div><div class=\"lev2\"><a href=\"#Intro\"><span class=\"toc-item-num\">1.1&nbsp;&nbsp;</span>Intro</a></div><div class=\"lev2\"><a href=\"#The-Real-need-for-regular-expressions:\"><span class=\"toc-item-num\">1.2&nbsp;&nbsp;</span>The Real need for regular expressions:</a></div><div class=\"lev2\"><a href=\"#The-language-of-regular-expresions:\"><span class=\"toc-item-num\">1.3&nbsp;&nbsp;</span>The language of regular expresions:</a></div><div class=\"lev2\"><a href=\"#Metacharacters:\"><span class=\"toc-item-num\">1.4&nbsp;&nbsp;</span>Metacharacters:</a></div><div class=\"lev3\"><a href=\"#Positioning-Metacharactrs:\"><span class=\"toc-item-num\">1.4.1&nbsp;&nbsp;</span>Positioning Metacharactrs:</a></div><div class=\"lev4\"><a href=\"#^\"><span class=\"toc-item-num\">1.4.1.1&nbsp;&nbsp;</span>^</a></div><div class=\"lev4\"><a href=\"#\\$\"><span class=\"toc-item-num\">1.4.1.2&nbsp;&nbsp;</span><span>$</span></a></div><div class=\"lev4\"><a href=\"#.\"><span class=\"toc-item-num\">1.4.1.3&nbsp;&nbsp;</span><strong>.</strong></a></div><div class=\"lev3\"><a href=\"#Some-more-Metacharacters:\"><span class=\"toc-item-num\">1.4.2&nbsp;&nbsp;</span>Some more Metacharacters:</a></div><div class=\"lev4\"><a href=\"#[-]\"><span class=\"toc-item-num\">1.4.2.1&nbsp;&nbsp;</span>[ ]</a></div><div class=\"lev4\"><a href=\"#-\"><span class=\"toc-item-num\">1.4.2.2&nbsp;&nbsp;</span>-</a></div><div class=\"lev4\"><a href=\"#\\d\"><span class=\"toc-item-num\">1.4.2.3&nbsp;&nbsp;</span>\\d</a></div><div class=\"lev4\"><a href=\"#\\D\"><span class=\"toc-item-num\">1.4.2.4&nbsp;&nbsp;</span>\\D</a></div><div class=\"lev4\"><a href=\"#\\w\"><span class=\"toc-item-num\">1.4.2.5&nbsp;&nbsp;</span>\\w</a></div><div class=\"lev4\"><a href=\"#\\W\"><span class=\"toc-item-num\">1.4.2.6&nbsp;&nbsp;</span>\\W</a></div><div class=\"lev4\"><a href=\"#\\s\"><span class=\"toc-item-num\">1.4.2.7&nbsp;&nbsp;</span>\\s</a></div><div class=\"lev4\"><a href=\"#\\S\"><span class=\"toc-item-num\">1.4.2.8&nbsp;&nbsp;</span>\\S</a></div><div class=\"lev3\"><a href=\"#Iteration-Metacharacters:\"><span class=\"toc-item-num\">1.4.3&nbsp;&nbsp;</span>Iteration Metacharacters:</a></div><div class=\"lev4\"><a href=\"#?\"><span class=\"toc-item-num\">1.4.3.1&nbsp;&nbsp;</span>?</a></div><div class=\"lev4\"><a href=\"#*\"><span class=\"toc-item-num\">1.4.3.2&nbsp;&nbsp;</span>*</a></div><div class=\"lev4\"><a href=\"#+\"><span class=\"toc-item-num\">1.4.3.3&nbsp;&nbsp;</span>+</a></div><div class=\"lev3\"><a href=\"#Some-more-examples:\"><span class=\"toc-item-num\">1.4.4&nbsp;&nbsp;</span>Some more examples:</a></div><div class=\"lev2\"><a href=\"#Pattern-finding-using-python:\"><span class=\"toc-item-num\">1.5&nbsp;&nbsp;</span>Pattern finding using python:</a></div><div class=\"lev2\"><a href=\"#Things-to-try:\"><span class=\"toc-item-num\">1.6&nbsp;&nbsp;</span>Things to try:</a></div>"
   ]
  },
  {
   "cell_type": "markdown",
   "metadata": {},
   "source": [
    "# Regular expressions"
   ]
  },
  {
   "cell_type": "markdown",
   "metadata": {
    "hide_input": true,
    "run_control": {
     "marked": true
    }
   },
   "source": [
    "## Intro\n",
    "\n",
    "When it comes to text mining you need to understand that a text is nothing but a sequence of characters. The character can be a digits, alphabets, symbols, spaces, new line  etc. And in this chapter we are going to learn about regular expressions a very powerfull concept that helps us to play with text. It can be used for finding patterns, searching words or characters, substitution etc.\n",
    "\n",
    "\n",
    "Observe the below three examples:\n",
    "\n",
    ".Example1:\n",
    "1. abc\n",
    "2. abcdef\n",
    "3. abcdefg\n",
    "\n",
    "\n"
   ]
  },
  {
   "cell_type": "markdown",
   "metadata": {
    "hide_input": false
   },
   "source": [
    ".Example2:\n",
    "\n",
    "1. password123\n",
    "2. 12353234123\n",
    "3. de12de3\n",
    "\n",
    "\n",
    "All these examples have a set of strings. And each set has a comman pattern present in them. In Example1 the string 'abc' is comman pattern that is found all the options. In Example2 string '12' - number characters, is a common pattern that is found in the all it's options. Also the string '123' is a common pattern in option 1 and option 2 of example2. \n",
    "\n"
   ]
  },
  {
   "cell_type": "code",
   "execution_count": 4,
   "metadata": {
    "collapsed": false,
    "hide_input": true,
    "run_control": {
     "marked": true
    }
   },
   "outputs": [],
   "source": [
    "# <!-- collapse=True -->\n",
    "from IPython.html import widgets\n",
    "from IPython.display import display\n",
    "radio=widgets.RadioButtons(\n",
    "    description='Select a pattern that is most common:',\n",
    "    options=['d12', 'd123', '123'],\n",
    "    )\n",
    "button=widgets.Button(description=\"submit!\")\n",
    "\n",
    "def msg(b):\n",
    "    selected = radio.value\n",
    "    if selected == '123':\n",
    "        print \"Exactly: 123 is the most common pattern among the three strings\"\n",
    "    else:\n",
    "        print \"close...But not the right one!\"\n",
    "        \n",
    "display(radio)\n",
    "display(button)\n",
    "button.on_click(msg)"
   ]
  },
  {
   "cell_type": "code",
   "execution_count": null,
   "metadata": {
    "collapsed": false,
    "hide_input": true,
    "run_control": {
     "marked": true
    }
   },
   "outputs": [],
   "source": []
  },
  {
   "cell_type": "markdown",
   "metadata": {},
   "source": [
    "patterns need not just be within words alone... they can be in sentences too. Try find the most uncommon of the following: \n",
    "\n",
    "1. Tim is a person.\n",
    "2. Tim is a good person.\n",
    "3. Is Tim a good person?\n"
   ]
  },
  {
   "cell_type": "code",
   "execution_count": 5,
   "metadata": {
    "collapsed": false,
    "hide_input": true,
    "run_control": {
     "marked": true
    }
   },
   "outputs": [],
   "source": [
    "# <!-- collapse=True -->\n",
    "from IPython.html import widgets\n",
    "from IPython.display import display\n",
    "radio=widgets.RadioButtons(\n",
    "    description='Select a pattern that is most common:',\n",
    "    options=['Is', 'is', '?'],\n",
    "    )\n",
    "button=widgets.Button(description=\"submit!\")\n",
    "\n",
    "def msg(b):\n",
    "    selected = radio.value\n",
    "    if selected == '?':\n",
    "        print \"Exactly: '?' is the most uncommon pattern among the three strings.\"\n",
    "        print  \"Also if you observe the three strings are very similar.\" \n",
    "        print \"Even 'Is' can be uncommon pattern if you consider case sensitivity which is upercase and lowercase characters\"\n",
    "    else:\n",
    "        print \"close...But not the right one!\"\n",
    "        \n",
    "display(radio)\n",
    "display(button)\n",
    "button.on_click(msg)"
   ]
  },
  {
   "cell_type": "markdown",
   "metadata": {},
   "source": [
    "\n",
    "\n",
    "\n",
    "## The Real need for regular expressions:\n",
    "\n",
    "The main idea behind the above examples is to make you understand the idea of patterns in text. Its easy to indentiy patterns in three or four sentences manually. But can you do it manually, let's say, for a ten thousand book reviews(comments). Well it would take forever. Which is why we need computers to do these things for you. And regular expressions are their way of seeing the patterns in text.\n",
    "\n",
    "\n",
    "\n",
    "## The language of regular expresions:  \n",
    "\n",
    "Regular expressions have a language of their own. A language that computers or most programming languages understand ofcourse. Computers are by themselves a bit dumb. They dont see the patterns in text by themselves. We need to give it instructions on how a pattern would be like. These instructions are the regular expressions. The regular expressions are fundamentally made of the following: \n",
    "\n",
    "\n",
    "1. __Metacharacters__: Metacharacteres are special characters that are reserved for a  specifif utility which we cover later in this chapter. They are not used as literals. \n",
    "\n",
    "2. __Literals__: Literals are simple characters such that comprises of numbers, alhphabets and other non-metacharacters. \n",
    "\n",
    "3. If we wanna use the metacharacters as regular characters we need to escape them using backslash(\\).\n",
    "\n",
    "NOTE: The simplest way to learn the regular expressions is try and apply against a target string or strings\n",
    "## Metacharacters:\n",
    "\n",
    "Metcharacters are characters that are reserved for specific functionality and these are the main building blocks for regular expressions. The following are the varous METACHARACTERS that we use. They may not make much sense when you read each of them the first time . But upon combining metacharacteres with the literals we can create powerfull pattern matching regular expressions which make more sense( and this is someting we are going to do in the following sections). \n",
    "\n",
    "Imagine you have ten or more sentences and let's call them the target strings. With regular expressions we try to extract those strings that have a desired pattern which we are looking for from these target strings: \n",
    "\n",
    "\n",
    "### Positioning Metacharactrs:\n",
    "\n",
    "\n",
    "#### ^\n",
    "\n",
    "The  claret '^' represents the start or beggining of a string:\n",
    "\n",
    "    The expression '^hello' matches all those lines that start with the word hello such as _\"hello world\"_, _\"helloooo there\"_. It can also be explained as the regular expression looks for the characters: \"hello\" at the beginning of a any target string. \n",
    "\n",
    "\n",
    "####  \\$\n",
    "\n",
    "Simlarly, the '\\$' dollar symbol signifies the end of the target string:\n",
    "    The expression 'end$' matches only those strings among the target strings, which have the word 'end' at the end of the string ( or sentence). For example:\n",
    "        1. \"this is the sentence end\"\n",
    "        2. \"thisisthesentenceend\" etc ...\n",
    "        \n",
    "\n",
    "#### __.__\n",
    "\n",
    "The '.' or period means any character in it's position. For Example:\n",
    "\n",
    "    1.  \".en\" can represent \"ben\", \"ten\", \"den\" etc. The period can be repaced with any character. It matches all those strings that have that pattern.  \n",
    "\n",
    "\n",
    "### Some more Metacharacters: \n",
    "\n",
    "#### [ ]  \n",
    "\n",
    "The brackets mean to match any one ( and only one) of the characters that is specified inside them.\n",
    "\n",
    "An example usage:\n",
    "\n",
    "    [abcd] :- this means match any character of a,b,c,d\n",
    "    [12av] :- this means match any character of 1,2,a,v\n",
    "    [avAV] :- this means match any caharater of a,v,A,V [ notice the lowercase and uppercase.]\n",
    "\n",
    "\n",
    "\n",
    "#### -  \n",
    "\n",
    "The '-' or iphen helps you to signify a range of characters or numbers at once. For example in the previeous examples we have listed each character that we want to match inside the brackets. But if we need to list out all the characters from '_a_' to '_z_' then using iphen or '-' we simply write it as \"__[a-z]__\"\n",
    "\n",
    "    [a-z] Matches all characters that are between a-z including the '_a_' and '_z_'\n",
    "    [0-9] Matches all characters that are between numbers 0 to 9 including the 0 and 9.\n",
    "    [A-Z] Matches all the uppercase charachters from A to Z\n",
    "    [0-9a-zA-z] Matches all the alphanumeric characters\n",
    "\n",
    "\n",
    "\n",
    "\n",
    "#### \\d\n",
    "\n",
    "This represents any digit. It's simpler to use compared to [0-9] specification:\n",
    "\n",
    "    \"password\\d\\d\\d\"  matches: \"password123\", \"password234\", \"password000\" etc , you can substitute any number in its place;\n",
    "\n",
    "\n",
    "#### \\D\n",
    "\n",
    "This is opposite to \\d. It means anything other than a digit (non-numeric characters):\n",
    "\n",
    "    \"\\Da\\D\" matches: \"dad\", \"mad\", \"cat\", even words that dont have any meaning such as \"lal\", \"fal\" etc. \"\\D\" can be substituted with any non-numeric character. It need not be just alphabets. It can also match space, tab etc;\n",
    "\n",
    "#### \\w\n",
    "\n",
    "This represents any alphanumeric character, similar to [0-9a-zA-Z]\n",
    "\n",
    "    '\\w\\w\\w' matches: \"abc\", \"a12\", \"123\", \"z1z\" etc. It just matches anything which is either a number or a alhpabet.\n",
    "\n",
    "#### \\W\n",
    "\n",
    "This is opposite to \\w. It represents any non alphanumeric characters. Similar to [^0-9a-zA-Z]\n",
    "\n",
    "    'text\\Wmining' matches: \"text mining\", \"text$mining\" etc . Just matches anything that is non alphanumeric.\n",
    "\n",
    "#### \\s\n",
    "\n",
    "White Space;\n",
    "\n",
    "#### \\S\n",
    "\n",
    "Anything other than a white space;\n",
    "\n",
    "\n",
    "\n",
    "\n",
    "\n",
    "### Iteration Metacharacters:\n",
    "\n",
    "Iteration metacharacters specify the number of times their preceding  character can occur in a pattern:\n",
    "\n",
    "Check the below example: \n",
    "1. god\n",
    "2. good\n",
    "3. goooood\n",
    "\n",
    "All of the above have one thing in common: the letter 'g' at the start and the letter 'd' at the end and letter 'o' in the middle with repititions. The regular expression 'g[o]d' would represent the first string \"god\" alone. It does'nt caputre the \"good\" and \"goooood\" because they have more than one \"o\". The simplest way to specify such repititions in regular expressions is to use certain _iteration metacharacters_: \n",
    "\n",
    "#### ?\n",
    "\n",
    "The question mark (?) specfies that the preceding character occurs only 0 or 1 times only. For example:\n",
    "  \n",
    "     \"go?d\"  matches : \"god\" and \"gd\" i.e \"o\" can occur once or no occurance at all;\n",
    "    \n",
    "\n",
    "#### *\n",
    "\n",
    "The asterisk (*) specifies that the preceding  character can occur zero or any number of times:\n",
    "\n",
    "     \"go*d\" matches: \"god\", \"good\", \"goooood\", \"gd\", \"goooooooooooood\" (like i said any number of \"o\"s)\n",
    "\n",
    "#### +\n",
    "\n",
    "The plus (+) sign specifies that it's preceding character should occur atleast i.e >=1 times:\n",
    "\n",
    "     \"go+d\" matches:  \"god\", \"good\", \"goooood\", \"gooooooooooood\" etc but not \"gd\". \n",
    "     \n",
    "     \n",
    "\n",
    "     \n",
    "\n",
    "### Some more examples:\n",
    "\n",
    "   Lets try to use a combination of these metacharacters to form complex regular expressions\n",
    "   \n",
    "   | Regular Expression       | possible matches |\n",
    "   | ------------- |:----------------:|\n",
    "   | goa[tl]       | matches goat, goal| \n",
    "   | ^good      | matches all the target strings that start with word good.  It does not match target string such as \"life is good\" as good here doesnt occur at the start of the sentence         |   \n",
    "   | bye\\$ | matches all the target strings that end with _bye_. It does not match sentence such as \"bye my friend\". Because the characters \"bye\" is not at the end of the string.                |\n",
    "   | ^life is [gf]ood$  | this regular expression pattern matches all the strings that start with \"_life is_\" and end with either _good_ or _food_  |  \n",
    "\n",
    "\n",
    "\n",
    "\n",
    "## Pattern finding using python:\n",
    "\n",
    "Now that we have an idea of the language of  the regluar expressions, let's see how we can make computers use regular expressions to extract infromation from text:\n",
    "\n",
    "Python has it's own library for processing regular expressions. This is called \"re\". Let's import it:"
   ]
  },
  {
   "cell_type": "code",
   "execution_count": 2,
   "metadata": {
    "collapsed": true
   },
   "outputs": [],
   "source": [
    "import re"
   ]
  },
  {
   "cell_type": "markdown",
   "metadata": {
    "collapsed": true
   },
   "source": [
    "consider some patterns:     "
   ]
  },
  {
   "cell_type": "code",
   "execution_count": 11,
   "metadata": {
    "collapsed": true
   },
   "outputs": [],
   "source": [
    "pattern = \".oo.\""
   ]
  },
  {
   "cell_type": "markdown",
   "metadata": {},
   "source": [
    "\n",
    "lets try to find matches for the pattern in a target string:"
   ]
  },
  {
   "cell_type": "code",
   "execution_count": 13,
   "metadata": {
    "collapsed": false
   },
   "outputs": [
    {
     "name": "stdout",
     "output_type": "stream",
     "text": [
      "list of matches:  ['food', 'food', 'good']\n"
     ]
    }
   ],
   "source": [
    "target_string=\"I love food, food which is good.\"\n",
    "\n",
    "matches =re.findall(pattern, target_string)\n",
    "print \"list of matches: \", matches"
   ]
  },
  {
   "cell_type": "markdown",
   "metadata": {},
   "source": [
    "We can also know the position( index) of the match in the target string:"
   ]
  },
  {
   "cell_type": "code",
   "execution_count": 23,
   "metadata": {
    "collapsed": false
   },
   "outputs": [
    {
     "name": "stdout",
     "output_type": "stream",
     "text": [
      "positions:  7 : 11 food\n",
      "positions:  13 : 17 food\n",
      "positions:  27 : 31 good\n"
     ]
    }
   ],
   "source": [
    "for match in  re.finditer(pattern, target_string):\n",
    "    start = match.start()\n",
    "    end = match.end()\n",
    "    print \"positions: \", start, \":\", end, target_string[start:end]"
   ]
  },
  {
   "cell_type": "markdown",
   "metadata": {},
   "source": [
    " \n",
    "<br><br><br>\n",
    "\n",
    "## Things to try:\n",
    "\n",
    "1. Write a regular expression that matches the below strings:\n",
    "\n",
    "       a. casper\n",
    "       b. Jasper\n",
    "\n",
    "2. Write a regular expression that would match the bellow strings:\n",
    "\n",
    "       a. hi\n",
    "       b. hiii\n",
    "       c. hiiiiiii\n",
    "\n",
    "3. Write a regular expression that would match the bellow strings:\n",
    "\n",
    "       a. code\n",
    "       b. coding\n",
    "       c. coder\n",
    "    \n",
    "4. Write a regular expression that would match the bellow strings:\n",
    "       a. john is a happy man\n",
    "       b. john is a good man\n",
    "       c. john is a great man\n",
    "\n",
    "5. Write a regular expression that would match the strings in a,b,c and skips strings d,c:\n",
    "\n",
    "       a. cat\n",
    "       b. rat\n",
    "       c. bat\n",
    "       d. sat\n",
    "       e. mat\n",
    "\n",
    "6. Write a regular expression that would match the below strings:\n",
    "\n",
    "       a. life is good\n",
    "       b. life is great\n",
    "       c. life is awesome\n",
    "     \n",
    "     \n",
    "7. Consider the given string : \" JAMES is  always Confident, consistent and persistent the way he works.\"\n",
    "       a. Write a regular expression that would capture the qualities of JAMES in the sentence\n",
    "       b. Write a program that would capture and print these regular expressions\n",
    "       c. The program should also print the postions of the words in the sentence.\n",
    "    \n",
    "    \n",
    "    \n"
   ]
  }
 ],
 "metadata": {
  "kernelspec": {
   "display_name": "Python 2",
   "language": "python",
   "name": "python2"
  },
  "language_info": {
   "codemirror_mode": {
    "name": "ipython",
    "version": 2
   },
   "file_extension": ".py",
   "mimetype": "text/x-python",
   "name": "python",
   "nbconvert_exporter": "python",
   "pygments_lexer": "ipython2",
   "version": "2.7.10"
  },
  "toc": {
   "toc_cell": true,
   "toc_number_sections": true,
   "toc_threshold": 6,
   "toc_window_display": true
  },
  "widgets": {
   "state": {},
   "version": "1.1.2"
  }
 },
 "nbformat": 4,
 "nbformat_minor": 0
}
